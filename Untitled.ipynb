{
 "cells": [
  {
   "cell_type": "code",
   "execution_count": 1,
   "metadata": {},
   "outputs": [],
   "source": [
    "\n",
    "# Python code to draw snowflakes fractal. \n",
    "import turtle \n",
    "import random "
   ]
  },
  {
   "cell_type": "code",
   "execution_count": 2,
   "metadata": {},
   "outputs": [],
   "source": [
    "# setup the window with a background color \n",
    "wn = turtle.Screen() \n",
    "wn.bgcolor(\"cyan\") \n",
    "  "
   ]
  },
  {
   "cell_type": "code",
   "execution_count": 4,
   "metadata": {},
   "outputs": [],
   "source": [
    "# assign a name to your turtle \n",
    "elsa = turtle.Turtle() \n",
    "elsa.speed(15) \n",
    "  \n",
    "# create a list of colours \n",
    "sfcolor = [\"white\", \"blue\", \"purple\", \"grey\", \"magenta\"] \n",
    "  \n"
   ]
  },
  {
   "cell_type": "code",
   "execution_count": 5,
   "metadata": {},
   "outputs": [],
   "source": [
    "# create a function to create different size snowflakes \n",
    "def snowflake(size): \n",
    "  \n",
    "    # move the pen into starting position \n",
    "    elsa.penup() \n",
    "    elsa.forward(10*size) \n",
    "    elsa.left(45) \n",
    "    elsa.pendown() \n",
    "    elsa.color(random.choice(sfcolor)) \n",
    "  \n",
    "    # draw branch 8 times to make a snowflake \n",
    "    for i in range(8): \n",
    "        branch(size)    \n",
    "        elsa.left(45) \n",
    "      "
   ]
  },
  {
   "cell_type": "code",
   "execution_count": 6,
   "metadata": {},
   "outputs": [],
   "source": [
    "# create one branch of the snowflake \n",
    "def branch(size): \n",
    "    for i in range(3): \n",
    "        for i in range(3): \n",
    "            elsa.forward(10.0*size/3) \n",
    "            elsa.backward(10.0*size/3) \n",
    "            elsa.right(45) \n",
    "        elsa.left(90) \n",
    "        elsa.backward(10.0*size/3) \n",
    "        elsa.left(45) \n",
    "    elsa.right(90)  \n",
    "    elsa.forward(10.0*size) \n",
    "  "
   ]
  },
  {
   "cell_type": "code",
   "execution_count": 7,
   "metadata": {},
   "outputs": [],
   "source": [
    "# loop to create 20 different sized snowflakes  \n",
    "# with different starting co-ordinates \n",
    "for i in range(20): \n",
    "    x = random.randint(-200, 200) \n",
    "    y = random.randint(-200, 200) \n",
    "    sf_size = random.randint(1, 4) \n",
    "    elsa.penup() \n",
    "    elsa.goto(x, y) \n",
    "    elsa.pendown() \n",
    "    snowflake(sf_size) "
   ]
  },
  {
   "cell_type": "code",
   "execution_count": null,
   "metadata": {},
   "outputs": [],
   "source": [
    "# leave the window open until you click to close   \n",
    "wn.exitonclick()   \n"
   ]
  },
  {
   "cell_type": "code",
   "execution_count": null,
   "metadata": {},
   "outputs": [],
   "source": [
    "\n",
    "  \n",
    "\n",
    "\n",
    "  \n"
   ]
  }
 ],
 "metadata": {
  "kernelspec": {
   "display_name": "Python 3",
   "language": "python",
   "name": "python3"
  },
  "language_info": {
   "codemirror_mode": {
    "name": "ipython",
    "version": 3
   },
   "file_extension": ".py",
   "mimetype": "text/x-python",
   "name": "python",
   "nbconvert_exporter": "python",
   "pygments_lexer": "ipython3",
   "version": "3.6.7"
  }
 },
 "nbformat": 4,
 "nbformat_minor": 4
}
