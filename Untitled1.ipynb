{
 "cells": [
  {
   "cell_type": "code",
   "execution_count": 1,
   "metadata": {},
   "outputs": [],
   "source": [
    "%matplotlib inline\n",
    "import numpy as np\n",
    "import scipy as sci\n",
    "import matplotlib\n",
    "import matplotlib.pyplot as plt\n",
    "import matplotlib.pylab as pylab\n",
    "pylab.rcParams['figure.figsize'] = 16, 12"
   ]
  },
  {
   "cell_type": "code",
   "execution_count": 2,
   "metadata": {},
   "outputs": [],
   "source": [
    "def iterate_mandelbrot(c, iterate_max, z=0):\n",
    "    for n in range(iterate_max+1):\n",
    "        z = z*z + c\n",
    "        if abs(z) > 2:\n",
    "            return n\n",
    "    return None"
   ]
  },
  {
   "cell_type": "code",
   "execution_count": 3,
   "metadata": {},
   "outputs": [],
   "source": [
    "def calculate_mandelbrot_image(xmin,xmax,Nx,ymin,ymax,iterate_max,center,scale):\n",
    "    delta = (xmax-xmin)/Nx;\n",
    "    Ny = round((ymax-ymin)/delta);\n",
    "    x = np.linspace(xmin,xmax,Nx);\n",
    "    y = np.linspace(ymin,ymax,Ny);\n",
    "    fractal = np.array(np.zeros((Nx,Ny), dtype=np.complex))\n",
    "    for i in range(0,Nx):\n",
    "        for j in range(0,Ny):\n",
    "            c = complex(x[i]*scale-center[0], y[j]*scale-center[1])\n",
    "            n = iterate_mandelbrot(c,iterate_max)\n",
    "            if n is None:\n",
    "                fractal[i,j] = 1.0\n",
    "            else:\n",
    "                fractal[i,j] = n/iterate_max\n",
    "    return x,y,fractal"
   ]
  },
  {
   "cell_type": "code",
   "execution_count": 18,
   "metadata": {},
   "outputs": [],
   "source": [
    "iterate_max = 1000; center = (2.2, 1.5); scale = 3.0/800.0; Nx = 1000;\n",
    "# xmin=0; xmax=800; ymin=; ymax=800;          # zoom0\n",
    "xmin=320; xmax=420; ymin=400; ymax=500;       # zoom1\n",
    "#xmin=382; xmax=389; ymin=418; ymax=425;      # zoom2\n",
    "#xmin=386.5; xmax=388.5; ymin=423; ymax=425;  # zoom3\n",
    "# xmin=386.5; xmax=388.5; ymin=421; ymax=425;  # zoom3 - long"
   ]
  },
  {
   "cell_type": "code",
   "execution_count": null,
   "metadata": {},
   "outputs": [],
   "source": [
    "x,y,fractal = calculate_mandelbrot_image(xmin,xmax,Nx,ymin,ymax,iterate_max,center,scale)\n",
    "C = np.power(np.real(fractal),0.5)"
   ]
  },
  {
   "cell_type": "code",
   "execution_count": null,
   "metadata": {},
   "outputs": [],
   "source": [
    "fig = plt.figure()\n",
    "ax = fig.add_subplot(111)\n",
    "#plt.pcolor(y,-x,np.abs(C),cmap=plt.cm.RdGy)\n",
    "plt.pcolor(y,-x,np.abs(C),cmap=plt.cm.afmhot)\n",
    "ax.set_aspect('equal')"
   ]
  },
  {
   "cell_type": "code",
   "execution_count": null,
   "metadata": {},
   "outputs": [],
   "source": [
    "fig.savefig('fractal.png', dpi=1000)"
   ]
  },
  {
   "cell_type": "code",
   "execution_count": null,
   "metadata": {},
   "outputs": [],
   "source": []
  },
  {
   "cell_type": "code",
   "execution_count": null,
   "metadata": {},
   "outputs": [],
   "source": []
  }
 ],
 "metadata": {
  "kernelspec": {
   "display_name": "Python 3",
   "language": "python",
   "name": "python3"
  },
  "language_info": {
   "codemirror_mode": {
    "name": "ipython",
    "version": 3
   },
   "file_extension": ".py",
   "mimetype": "text/x-python",
   "name": "python",
   "nbconvert_exporter": "python",
   "pygments_lexer": "ipython3",
   "version": "3.6.7"
  }
 },
 "nbformat": 4,
 "nbformat_minor": 4
}
